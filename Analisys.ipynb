{
 "cells": [
  {
   "cell_type": "code",
   "execution_count": null,
   "id": "64a0bb27-815a-4aaf-9148-395dd739e00f",
   "metadata": {},
   "outputs": [],
   "source": [
    "from ROOT import TFile, TH1F, TCanvas\n",
    "mc_canvas = TCanvas(\"MC_Canvas\", \"Main canvas\", 800, 600)\n",
    "\n",
    "tFile = TFile('lctuple_ACTS_REC.root')\n",
    "tree = tFile.Get('MyLCTuple')\n",
    "\n",
    "h_mc_pdg = TH1F(\"h_mc_pdg\",\"Stable MC particles; Mom X\", 800, -200., 200.)"
   ]
  },
  {
   "cell_type": "code",
   "execution_count": null,
   "id": "f0a69584-5e4a-43ef-8d72-a0a8463787ac",
   "metadata": {},
   "outputs": [],
   "source": [
    "for item in tree:\n",
    "    for k in range(item.nmcp):\n",
    "        if item.mcgst[k] == 1:\n",
    "            h_mc_pdg.Fill(item.mcmox[k])"
   ]
  },
  {
   "cell_type": "code",
   "execution_count": null,
   "id": "9ed4403b-51c4-4b64-a459-20ecb36f3ce6",
   "metadata": {},
   "outputs": [],
   "source": [
    "h_mc_pdg.Draw()\n",
    "\n",
    "%jsroot on\n",
    "mc_canvas.Draw()"
   ]
  }
 ],
 "metadata": {
  "kernelspec": {
   "display_name": "Python 3 (ipykernel)",
   "language": "python",
   "name": "python3"
  },
  "language_info": {
   "codemirror_mode": {
    "name": "ipython",
    "version": 3
   },
   "file_extension": ".py",
   "mimetype": "text/x-python",
   "name": "python",
   "nbconvert_exporter": "python",
   "pygments_lexer": "ipython3",
   "version": "3.9.18"
  }
 },
 "nbformat": 4,
 "nbformat_minor": 5
}
