{
 "cells": [
  {
   "cell_type": "code",
   "execution_count": null,
   "id": "ebad247f-1299-416d-a254-be723864ed1b",
   "metadata": {},
   "outputs": [],
   "source": [
    "from Gaudi.Configuration import *\n",
    "\n",
    "from Configurables import LcioEvent, EventDataSvc, MarlinProcessorWrapper, ApplicationMgr\n",
    "from k4MarlinWrapper.parseConstants import *\n",
    "from Gaudi.Main import gaudimain\n",
    "import os\n",
    "\n",
    "os.environ['LD_LIBRARY_PATH'] = '/usr/lib64'\n",
    "os.environ['CED_PORT'] = '10091'\n",
    "\n",
    "algList = []\n",
    "evtsvc = EventDataSvc()\n",
    "\n",
    "CONSTANTS = {}\n",
    "\n",
    "parseConstants(CONSTANTS)"
   ]
  },
  {
   "cell_type": "code",
   "execution_count": null,
   "id": "67123023-a452-4abe-b3ac-68468edf7cb2",
   "metadata": {},
   "outputs": [],
   "source": [
    "read = LcioEvent()\n",
    "read.OutputLevel = INFO\n",
    "read.Files = [\"Output_ACTS_REC.slcio\"]\n",
    "algList.append(read)"
   ]
  },
  {
   "cell_type": "code",
   "execution_count": null,
   "id": "8371eda6-b88b-4ecb-86d2-9901b91270e3",
   "metadata": {},
   "outputs": [],
   "source": [
    "MyInitializeDD4hep = MarlinProcessorWrapper(\"MyInitializeDD4hep\")\n",
    "MyInitializeDD4hep.OutputLevel = INFO\n",
    "MyInitializeDD4hep.ProcessorType = \"InitializeDD4hep\"\n",
    "MyInitializeDD4hep.Parameters = {\n",
    "                                 \"DD4hepXMLFile\": [\"/usr/share/muonc-detector-geometry/MuColl_v1.0.1/MuColl_v1.xml\"]\n",
    "                                 }\n",
    "algList.append(MyInitializeDD4hep)"
   ]
  },
  {
   "cell_type": "code",
   "execution_count": null,
   "id": "c7f68977-80b9-4a5b-84be-01333125b208",
   "metadata": {},
   "outputs": [],
   "source": [
    "MyCEDViewer = MarlinProcessorWrapper(\"MyCEDViewer\")\n",
    "MyCEDViewer.OutputLevel = INFO\n",
    "MyCEDViewer.ProcessorType = \"DDCEDViewer\"\n",
    "MyCEDViewer.Parameters = {\n",
    "                          \"ColorByEnergy\": [\"false\"],\n",
    "                          \"ColorByEnergyAutoColor\": [\"false\"],\n",
    "                          \"ColorByEnergyBrightness\": [\"1.0\"],\n",
    "                          \"ColorByEnergyMax\": [\"35.0\"],\n",
    "                          \"ColorByEnergyMin\": [\"0.0\"],\n",
    "                          \"ColorByEnergySaturation\": [\"1.0\"],\n",
    "                          \"ColorScheme\": [\"10\"],\n",
    "                          \"DetailledDrawing\": [],\n",
    "                          \"DrawDetector\": [\"true\"],\n",
    "                          \"DrawDetectorID\": [\"0\"],\n",
    "                          \"DrawHelixForPFOs\": [\"0\"],\n",
    "                          \"DrawHelixForTrack\": [\"0\"],\n",
    "                          \"DrawInLayer\": [\n",
    "                              \"MCParticle\", \"0\", \"3\", \"0\",\n",
    "                              \"MCPhysicsParticles\", \"0\", \"3\", \"1\",\n",
    "                              \"SiTracks\", \"0\", \"6\", \"2\",\n",
    "                              \"SiTracksACTs\", \"0\", \"6\", \"3\",\n",
    "                              \"SiTracksCT\", \"0\", \"6\", \"3\",\n",
    "                              \"SiTracks_Refitted\", \"0\", \"6\", \"4\",\n",
    "                              \"VXDTrackerHits\", \"0\", \"5\", \"5\",\n",
    "                              \"VXDEndcapTrackerHits\", \"0\", \"5\", \"5\",\n",
    "                              \"ITrackerEndcapHits\", \"0\", \"5\", \"6\",\n",
    "                              \"ITrackerHits\", \"0\", \"5\", \"6\",\n",
    "                              \"OTrackerEndcapHits\", \"0\", \"5\", \"7\",\n",
    "                              \"OTrackerHits\", \"0\", \"5\", \"7\",\n",
    "                              \"VertexBarrelCollection\", \"0\", \"5\", \"8\",\n",
    "                              \"VertexEndcapCollection\", \"0\", \"5\", \"8\",\n",
    "                              \"InnerTrackerBarrelCollection\", \"0\", \"5\", \"9\",\n",
    "                              \"InnerTrackerEndcapCollection\", \"0\", \"5\", \"9\",\n",
    "                              \"OuterTrackerBarrelCollection\", \"0\", \"5\", \"10\",\n",
    "                              \"OuterTrackerEndcapCollection\", \"0\", \"5\", \"10\",\n",
    "                              \"MUON\", \"0\", \"3\", \"11\",\n",
    "                              \"PandoraClusters\", \"0\", \"3\", \"12\",\n",
    "                              \"SelectedPandoraPFOs\", \"0\", \"3\", \"13\",\n",
    "                              \"TightSelectedPandoraPFOs\", \"0\", \"3\", \"14\",\n",
    "                              \"LooseSelectedPandoraPFOs\", \"0\", \"3\", \"15\",\n",
    "                              \"LE_SelectedPandoraPFOs\", \"0\", \"3\", \"16\",\n",
    "                              \"LE_TightSelectedPandoraPFOs\", \"0\", \"3\", \"17\",\n",
    "                              \"LE_LooseSelectedPandoraPFOs\", \"0\", \"3\", \"18\",\n",
    "                              \"PandoraPFOs\", \"0\", \"3\", \"19\",\n",
    "                              \"JetCaloOut\", \"0\", \"3\", \"20\",\n",
    "                              \"PandoraStartVertices\", \"0\", \"3\", \"21\"\n",
    "                          ],\n",
    "                          \"DrawSurfaces\": [\"false\"],\n",
    "                          \"HelixMaxR\": [\"2000\"],\n",
    "                          \"HelixMaxZ\": [\"2500\"],\n",
    "                          \"MCParticleEnergyCut\": [\"0.001\"],\n",
    "                          \"ScaleLineThickness\": [\"1\"],\n",
    "                          \"ScaleMarkerSize\": [\"1\"],\n",
    "                          \"UseColorForHelixTracks\": [\"0\"],\n",
    "                          \"UseTPCForLimitsOfHelix\": [\"true\"],\n",
    "                          \"UsingParticleGun\": [\"false\"],\n",
    "                          \"WaitForKeyboard\": [\"1\"]\n",
    "                          }\n",
    "algList.append(MyCEDViewer)"
   ]
  },
  {
   "cell_type": "code",
   "execution_count": null,
   "id": "9b8aaffc-0661-44c7-a3e4-c394ec4b335a",
   "metadata": {},
   "outputs": [],
   "source": [
    "ApplicationMgr( TopAlg = algList,\n",
    "                EvtSel = 'NONE',\n",
    "                EvtMax   = 10,\n",
    "                ExtSvc = [evtsvc],\n",
    "                OutputLevel=INFO\n",
    "              )\n",
    "\n",
    "gmain = gaudimain()\n",
    "gmain.run(False)"
   ]
  }
 ],
 "metadata": {
  "kernelspec": {
   "display_name": "Python 3 (ipykernel)",
   "language": "python",
   "name": "python3"
  },
  "language_info": {
   "codemirror_mode": {
    "name": "ipython",
    "version": 3
   },
   "file_extension": ".py",
   "mimetype": "text/x-python",
   "name": "python",
   "nbconvert_exporter": "python",
   "pygments_lexer": "ipython3",
   "version": "3.9.18"
  }
 },
 "nbformat": 4,
 "nbformat_minor": 5
}
