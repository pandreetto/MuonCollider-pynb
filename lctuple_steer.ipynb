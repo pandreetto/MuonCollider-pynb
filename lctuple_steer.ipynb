{
 "cells": [
  {
   "cell_type": "code",
   "execution_count": null,
   "id": "8466ced9-a556-4e13-8403-afc2ddb246c3",
   "metadata": {},
   "outputs": [],
   "source": [
    "from Gaudi.Configuration import *\n",
    "\n",
    "from Configurables import LcioEvent, EventDataSvc, MarlinProcessorWrapper, ApplicationMgr\n",
    "from k4MarlinWrapper.parseConstants import *\n",
    "from Gaudi.Main import gaudimain\n",
    "import os\n",
    "\n",
    "os.environ['LD_LIBRARY_PATH'] = '/usr/lib64'\n",
    "\n",
    "algList = []\n",
    "evtsvc = EventDataSvc()\n",
    "\n",
    "CONSTANTS = {}\n",
    "\n",
    "parseConstants(CONSTANTS)"
   ]
  },
  {
   "cell_type": "code",
   "execution_count": null,
   "id": "49f5bf52-8ce3-4a41-b128-58a1611a6330",
   "metadata": {},
   "outputs": [],
   "source": [
    "read = LcioEvent()\n",
    "read.OutputLevel = INFO\n",
    "read.Files = [\"Output_ACTS_REC.slcio\"]\n",
    "algList.append(read)"
   ]
  },
  {
   "cell_type": "code",
   "execution_count": null,
   "id": "27bbe823-d9af-4052-ac93-d2fd33d6666c",
   "metadata": {},
   "outputs": [],
   "source": [
    "MyAIDAProcessor = MarlinProcessorWrapper(\"MyAIDAProcessor\")\n",
    "MyAIDAProcessor.OutputLevel = INFO\n",
    "MyAIDAProcessor.ProcessorType = \"AIDAProcessor\"\n",
    "MyAIDAProcessor.Parameters = {\n",
    "                              \"Compress\": [\"1\"],\n",
    "                              \"FileName\": [\"lctuple_ACTS_REC\"],\n",
    "                              \"FileType\": [\"root\"]\n",
    "                              }\n",
    "algList.append(MyAIDAProcessor)"
   ]
  },
  {
   "cell_type": "code",
   "execution_count": null,
   "id": "e9190864-5478-417c-8bef-a7cc4edebf78",
   "metadata": {},
   "outputs": [],
   "source": [
    "MyLCTuple = MarlinProcessorWrapper(\"MyLCTuple\")\n",
    "MyLCTuple.OutputLevel = INFO\n",
    "MyLCTuple.ProcessorType = \"LCTuple\"\n",
    "MyLCTuple.Parameters = {\n",
    "                        \"CalorimeterHitCollection\": [],\n",
    "                        \"ClusterCollection\": [],\n",
    "                        \"FullSubsetCollections\": [\"EfficientMCParticles\", \"InefficientMCParticles\"],\n",
    "                        \"IsoLepCollection\": [],\n",
    "                        \"JetCollection\": [\"RefinedVertexJets\"],\n",
    "                        \"JetCollectionExtraParameters\": [\"true\"],\n",
    "                        \"JetCollectionTaggingParameters\": [\"false\"],\n",
    "                        \"LCRelationCollections\": [\"RecoMCTruthLink\"],\n",
    "                        \"LCRelationPrefixes\": [\"r2m\"],\n",
    "                        \"LCRelationwithPFOCollections\": [],\n",
    "                        \"MCParticleCollection\": [\"MCParticle\"],\n",
    "                        \"MCParticleNotReco\": [],\n",
    "                        \"RecoParticleCollection\": [\"PandoraPFOs\"],\n",
    "                        \"SimCalorimeterHitCollection\": [\n",
    "                            \"HCalBarrelCollection\",\n",
    "                            \"HCalEndcapCollection\",\n",
    "                            \"HCalRingCollection\",\n",
    "                            \"YokeBarrelCollection\",\n",
    "                            \"YokeEndcapCollection\"\n",
    "                        ],\n",
    "                        \"SimTrackerHitCollection\": [],\n",
    "                        \"TrackCollection\": [\"SiTracks_Refitted\"],\n",
    "                        \"TrackerHitCollection\": [],\n",
    "                        \"VertexCollection\": [\"PrimaryVertices\"],\n",
    "                        \"WriteCalorimeterHitCollectionParameters\": [\"false\"],\n",
    "                        \"WriteClusterCollectionParameters\": [\"false\"],\n",
    "                        \"WriteIsoLepCollectionParameters\": [\"false\"],\n",
    "                        \"WriteJetCollectionParameters\": [\"false\"],\n",
    "                        \"WriteMCParticleCollectionParameters\": [\"true\"],\n",
    "                        \"WriteRecoParticleCollectionParameters\": [\"false\"],\n",
    "                        \"WriteSimCalorimeterHitCollectionParameters\": [\"false\"],\n",
    "                        \"WriteSimTrackerHitCollectionParameters\": [\"false\"],\n",
    "                        \"WriteTrackCollectionParameters\": [\"false\"],\n",
    "                        \"WriteTrackerHitCollectionParameters\": [\"false\"],\n",
    "                        \"WriteVertexCollectionParameters\": [\"false\"]\n",
    "                        }\n",
    "algList.append(MyLCTuple)"
   ]
  },
  {
   "cell_type": "code",
   "execution_count": null,
   "id": "67cd736c-6e9f-45c1-9915-c7afdd5245ec",
   "metadata": {},
   "outputs": [],
   "source": [
    "ApplicationMgr( TopAlg = algList,\n",
    "                EvtSel = 'NONE',\n",
    "                EvtMax   = 10,\n",
    "                ExtSvc = [evtsvc],\n",
    "                OutputLevel=INFO\n",
    "              )\n",
    "\n",
    "gmain = gaudimain()\n",
    "gmain.run(False)"
   ]
  }
 ],
 "metadata": {
  "kernelspec": {
   "display_name": "Python 3 (ipykernel)",
   "language": "python",
   "name": "python3"
  },
  "language_info": {
   "codemirror_mode": {
    "name": "ipython",
    "version": 3
   },
   "file_extension": ".py",
   "mimetype": "text/x-python",
   "name": "python",
   "nbconvert_exporter": "python",
   "pygments_lexer": "ipython3",
   "version": "3.9.18"
  }
 },
 "nbformat": 4,
 "nbformat_minor": 5
}
